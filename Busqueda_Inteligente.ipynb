{
 "cells": [
  {
   "cell_type": "markdown",
   "metadata": {},
   "source": [
    "# Inteligencia Artificial\n",
    "## Métodos de búsqueda inteligente"
   ]
  },
  {
   "cell_type": "markdown",
   "metadata": {},
   "source": [
    "Por medio del presente cuaderno, se podrán estudiar y poner en práctica los conceptos relacionados con una de las técnicas desarrolladas dentro del campo de la inteligencia artificial, como lo son los métodos de búsqueda inteligente. Para esto, primero se abordarán los conceptos necesarios para comprender el tema y luego se pondrán en práctica por medio de una herramienta computacional."
   ]
  },
  {
   "cell_type": "markdown",
   "metadata": {},
   "source": [
    "La actividad se estructura en cuatro partes, en donde primero se presenta una pequeña parte teórica y luego se desarrollan algunos ejercicios para poner en práctica lo aprendido. "
   ]
  },
  {
   "cell_type": "markdown",
   "metadata": {},
   "source": [
    "### 1. Introducción teórica"
   ]
  },
  {
   "cell_type": "markdown",
   "metadata": {},
   "source": [
    "¿Qué se entiende por inteligencia? De acuerdo con el diccionario de La Real Academia Española (RAE) la inteligencia se define como la *capacidad de entender, comprender o resolver problemas*, por lo tanto, cuando se hace referencia a la Inteligencia Artifical (IA) se puede entender como la capacidad que posee una máquina para cumplir con dichas tareas. Dada la gran cantidad de aplicaciones que existen para la IA y también la innumerable variedad de problemas en los que se pueden aplicar estrategias de IA, con el tiempo se han generado diferentes campos de investigación y desarrollo de aplicaciones para la IA, en donde cada uno abarca un tipo de problema distinto. Cada uno de estos campos lo que definen son técnicas o metodologías individuales, cada una con su correspondiente fundamentación y orientadas a resolver un tipo de problema específico. Algunas de las técnicas más utilizadas son:\n",
    "- Redes Neuronales\n",
    "- Algoritmos Genéticos\n",
    "- Computación Evolutiva\n",
    "- Búsquedas heurísticas\n",
    "- Machine Learning\n",
    "- Entre otras\n",
    "\n",
    "#### Métodos de Búsqueda inteligente\n",
    "Los métodos de búsqueda inteligente se pueden entender como una especie de guía a seguir a la hora de optar o elegir entre diferentes alternativas de soluciones a un problema dado. Las estrategias de búsqueda pueden clasficarse dependiendo de la cantidad de información del problema con que se cuente, teniendo así las **búsquedas informadas o heurísticas** y las **búsquedas no informadas o ciegas**. Lo que permite la información que se posea de un problema es limitar de cierta manera la exploración de las soluciones disponibles. Es decir, cuando no se cuenta con información suficiente del problema, un algoritmo de búsqueda debe analizar todas las alternativas de solución existentes antes de dar con la correcta. Es importante también conocer la manera en la que se puede representar el problema que se desea resolver. Para esto se emplea una estructura de datos conocida como **grafos**, la cuál ordena las distintas situaciones que se pueden dar dentro de un problema. Un grafo se compone de estados o nodos y de operadores o aristas. \n",
    "<img src=\"imagenes/jup_im1.png\" alt=\"Drawing\" style=\"width: 700px;\"/>"
   ]
  },
  {
   "cell_type": "markdown",
   "metadata": {},
   "source": [
    "Cuando en un grafo no se tienen ciclos, es decir, que al aplicar un operador no se repiten estados, se obtiene un árbol de estados que está compuesto por niveles, en donde se tiene un nodo raíz, nodos padre y nodos hijos. En este tipo de grafos cada nodo padre puede tener más de un hijo, pero cada nodo hijo solamente debe tener un nodo padre.\n",
    "<img src=\"imagenes/jup_im2.png\" alt=\"Drawing\" style=\"width: 800px;\"/>\n",
    "\n",
    "Teniendo claro los dos tipos de búsqueda que existen y la manera en que se puede representar un problema, se pueden analizar dos de los algoritmos de búsqueda no informada más utilizados:\n",
    "- La búsqueda por amplitud\n",
    "- La búsqueda por coste uniforme\n"
   ]
  },
  {
   "cell_type": "markdown",
   "metadata": {},
   "source": [
    "##### Búsqueda por amplitud\n",
    "En este tipo de búsqueda, el árbol de un problema se recorre por niveles, es decir, que una vez analizado el nodo raíz se analizan todos sus nodos hijos. Una vez recorridos todos los nodos hijos, se comienza a recorrer un nivel más de profundidad, analizando todos los nodos hijos de los primeros nodos hijos, repitiendo así el proceso hasta dar con el nodo objetivo (la solución).\n",
    "<img src=\"imagenes/jup_im3.png\" alt=\"Drawing\" style=\"width: 500px;\"/>\n",
    "Los pasos principales que sigue un algoritmo de búsqueda por amplitud son:\n",
    "1. Se selecciona un nodo raíz y se almacena en una lista que contendrá aquellos nodos que están pendientes de analizar. Esta lista se podría llamar *nodos pendientes*.\n",
    "2. Se toma el primer nodo de la lista *nodos pendientes* y se compara con el nodo objetivo. Cuando éstos dos nodos sean iguales significa que el algoritmo llegó a la solución del problema. Si el nodo que se está analizando no es el nodo objetivo, se procede con el siguiente paso.\n",
    "3. Se generan todos los nodos hijos del nodo actual aplicando los operadores que se han definido. A este proceso se le conoce como expandir un nodo. Los nodos hijos creados se añaden a la lista *nodos pendientes*.\n",
    "4. Se regresa al paso 2 hasta que la lista *nodos pendientes* este vacía.\n",
    "\n",
    "Se puede notar que la manera en la que se estructuran los datos en la lista *nodos pendientes* corresponde a una cola FIFO (Firt In First Out), es decir, los nodos se analizan de acuerdo al orden en que ingresan a la lista. Esto es lo que permite que primero se analicen todos los elementos de un mismo nivel de profundidad antes de pasar al siguiente. Otro aspecto importante es que se debe tener también una lista que almacene los nodos que ya han sido analizados, para que cuando se presenten ciclos en el grafo del problema no se repitan los nodos analizados."
   ]
  },
  {
   "cell_type": "markdown",
   "metadata": {},
   "source": [
    "##### Búsqueda por coste uniforme\n",
    "Lo que diferencia a este tipo de búsqueda del método anterior es que ahora se le asigna a cada nodo un coste, es decir, se define una función $𝑓(𝑛)$ como el coste de recorrer el camino que va desde un nodo raíz hasta el nodo solución. La búsqueda de coste uniforme hace uso de una cola con prioridad en lugar de una cola FIFO, estableciendo el nodo prioritario como aquel que represente el menor coste."
   ]
  },
  {
   "cell_type": "markdown",
   "metadata": {},
   "source": [
    "### 2. Primer ejercicio"
   ]
  },
  {
   "cell_type": "markdown",
   "metadata": {},
   "source": [
    "Tomando los conceptos recién estudiados, se puede resolver uno de los principales problemas que existe en la robótica, específicamente en los robots móviles y en la autonomía de éstos, como lo es la generación de rutas a la hora de trazar una trayectoria de recorrido. Para representar este problema se parte de un mapa (o zona a recorrer) dividida en casillas, donde cada casilla juega un papel de nodo. Es decir, el movimiento del robot de una casilla a otra representará un cambio de estado, o el recorrido entre un nodo y otro."
   ]
  },
  {
   "cell_type": "markdown",
   "metadata": {},
   "source": [
    "Aplicando los algoritmos de búsqueda por amplitud y búsqueda por coste uniforme en este problema sería posible calcular entre dos distintas casillas de un mapa, una ruta lo más corta posible y una ruta con el menor coste posible."
   ]
  },
  {
   "cell_type": "markdown",
   "metadata": {},
   "source": [
    "#### Ejemplo:\n",
    "\n",
    "<img src=\"imagenes/mapa1.png\" alt=\"Drawing\" style=\"width: 200px;\"/>\n",
    "\n",
    "Para la figura anterior, teniendo en cuenta que las casillas de color negro representan obstáculos, las de color cafe representan un coste de movimiento de 1 y las de color verde un coste de movimiento de 2, se podría observar que tomando el origen en **a2** y el destino en **d4**, se tiene que:\n",
    "\n",
    "- La ruta más corta sería: a2, a3, a4, b4, c4 y d4.\n",
    "- La ruta con menor coste sería : a2, a1, b1, c1, d1, d2, d3 y d4.\n",
    "\n",
    "**Para analizar**: ¿Porqué se tienen estas rutas para la trayectoria más corta y para la trayectoria con menor coste? \n"
   ]
  },
  {
   "cell_type": "code",
   "execution_count": null,
   "metadata": {},
   "outputs": [],
   "source": [
    "respuesta = raw_input(\"Respuesta: \")"
   ]
  },
  {
   "cell_type": "markdown",
   "metadata": {},
   "source": [
    "#### Inténtalo tú! \n",
    "\n",
    "Ahora, para el siguiente mapa, trata de encontrar la ruta más corta y la ruta con menor coste entre las casillas **f10** (origen) y **f1** (destino) y entre las casillas **a1** (origen) y **j10** (destino), tomando en cuenta que las casillas negras representan obstáculos, las casillas cafes representan un coste de 1, las casillas verdes un coste de 2 y las casillas rocosas un coste de 3.\n",
    "\n",
    "<img src=\"imagenes/mapa3.png\" alt=\"Drawing\" style=\"width: 350px;\"/>\n",
    "\n"
   ]
  },
  {
   "cell_type": "code",
   "execution_count": null,
   "metadata": {},
   "outputs": [],
   "source": [
    "primerCasoBFS = raw_input(\"Entre f10 y f1 (ruta más corta): \")\n",
    "primerCasoBFS = raw_input(\"Entre f10 y f1 (ruta con menor coste): \")\n",
    "segundoCasoUCS = raw_input(\"Entre a1 y j10 (ruta más corta): \")\n",
    "segundoCasoUCS = raw_input(\"Entre a1 y j10 (ruta con menor coste): \")"
   ]
  },
  {
   "cell_type": "markdown",
   "metadata": {},
   "source": [
    "### 3. Comprueba tus rutas\n",
    "\n",
    "<img src=\"imagenes/interfaz.png\" alt=\"Drawing\" style=\"width: 350px;\"/>\n",
    "\n",
    "Ahora, para comprobar la eficacia de las rutas obtenidas en el punto anterior, utiliza la herramienta computacional brindada para calcular las rutas por medio de los algoritmos de búsqueda. En esta interfaz se encuentra el mismo mapa utilizado en el punto anterior, llamado como *Mapa 3*, por lo que sólo es cuestión de digitar las mismas casillas analizada para poder comparar resultados."
   ]
  },
  {
   "cell_type": "code",
   "execution_count": null,
   "metadata": {},
   "outputs": [],
   "source": [
    "primerCasoBFS_alg = raw_input(\"Entre f10 y f1 (ruta más corta): \")\n",
    "primerCasoBFS_alg = raw_input(\"Entre f10 y f1 (ruta con menor coste): \")\n",
    "segundoCasoUCS_alg = raw_input(\"Entre a1 y j10 (ruta más corta): \")\n",
    "segundoCasoUCS_alg = raw_input(\"Entre a1 y j10 (ruta con menor coste): \")"
   ]
  },
  {
   "cell_type": "markdown",
   "metadata": {},
   "source": [
    "Analiza las rutas calculadas por medio de los algoritmos en comparación con las rutas obtenidas en el punto 2."
   ]
  },
  {
   "cell_type": "code",
   "execution_count": null,
   "metadata": {},
   "outputs": [],
   "source": [
    "conclusion = raw_input(\"¿Qué observaste en los resultados?: \")"
   ]
  },
  {
   "cell_type": "markdown",
   "metadata": {},
   "source": [
    "### 4. Explora más rutas y pon a prueba los algoritmos de búsqueda analizados\n",
    "\n",
    "Ahora, para estudiar un poco más los algoritmos de búsqueda, utiliza la herramienta para explorar diferentes mapas y encontrar casos en donde, para un mismo par de casillas (origen y destino), se tengan rutas iguales calculadas por medio de los dos métodos de búsqueda utilizados y casos en donde se tengan rutas diferentes para ambos métodos de búsqueda. "
   ]
  },
  {
   "cell_type": "markdown",
   "metadata": {},
   "source": [
    "### 5. Diseña tu propio mapa (ejercicio extra)\n",
    "\n",
    "El objetivo de esta sección es explorar casos que todavía no se hayan analizado, por medio del desarrollo de mapas con condiciones o situaciones especiales. Por ejemplo, ¿Qué pasaría si la casilla de destino está rodeada por obstáculos? ¿Qué pasaría si en el mapa existen caminos sin salidas?\n",
    "\n",
    "Esta es una oportunidad para probar más a fondo los algoritmos de búsqueda y analizar su comportamiento ante situaciones no anticipadas. \n",
    "\n",
    "El funcionamiento a nivel de código para el desarrollo de un mapa es muy sencillo ya que todo lo que hay que utilizar son diccionarios de Python. Un diccionario está conformado por claves y valores, en donde se tiene una lista de claves y a cada una se le asigna un valor. Es posible también, asignarle a cada clave otra clave, es decir, crear diccionarios anidados, en donde una clave puede tener como valor distintas claves, y a su vez, esas claves tener cada una su respectivo valor. A continuación se presentan un par de ejemplos."
   ]
  },
  {
   "cell_type": "code",
   "execution_count": null,
   "metadata": {},
   "outputs": [],
   "source": [
    "print(\"Diccionario simple: \")\n",
    "diccionarioS = {'Tema':'Inteligencia Artificial' , 'Tecnica':'Metodos de busqueda', 'Area':'Ingenieria'}\n",
    "print(diccionario)"
   ]
  },
  {
   "cell_type": "code",
   "execution_count": null,
   "metadata": {},
   "outputs": [],
   "source": [
    "print(\"Diccionario anidado: \")\n",
    "diccionarioA = {\n",
    "    'Curso A':{'Nombre':'Calculo','creditos': 3},\n",
    "    'Curso B':{'Nombre':'Algebra','creditos': 4}\n",
    "}\n",
    "print(diccionarioA)"
   ]
  },
  {
   "cell_type": "markdown",
   "metadata": {},
   "source": [
    "Conociendo el concepto de diccionarios, observemos como se puede utilizar esta estructura de datos para representar un mapa:\n",
    "\n",
    "<img src=\"imagenes/jup_im4.png\" alt=\"Drawing\" style=\"width: 500px;\"/>\n",
    "\n",
    "En el diccionario mostrado se tienen definidas todas las casillas que se pueden recorrer, en donde a cada una se le asigna como valor las casillas adyacentes que se pueden recorrer y también cuál es su coste respectivo. Las casillas de obstáculos se representan al excluirlas del diccionario, de manera que el algoritmo no pueda recorrerlas.\n",
    "Se tiene así por ejemplo que la casilla **a1** permite movimiento hacia la casilla **a2** y hacia la **b1**, en donde cada movimiento tiene un coste de **1**.\n",
    "\n",
    "Entendidos éstos ejemplos, ahora puedes crear tu propio mapa. Lo que debes hacer es dibujarlo y guardarlo como una imagen tipo **png** cuyo tamaño no sea mayor a 400 x 400 píxeles, y crear su código correspondiente. Luego es cuestión de tomar la imagen y agregarla a la carpeta *imagenes* del proyecto, y el diccionario agregarlo al archivo *mapas.py* dentro de la clase *Mapas*. Finalmente, en el archivo *frame.py* dentro de la función  *frame_1()*  debes agregar tu mapa a la lista de la variable *self.opciones* y asociarla a tu imagen, por medio de la función *imagenDeFondo()* agregando una condición *elif* más. Seguidos estos pasos, puedes explorar tu propio mapa con los algoritmos de búsqueda estudiados."
   ]
  }
 ],
 "metadata": {
  "kernelspec": {
   "display_name": "Python 3",
   "language": "python",
   "name": "python3"
  },
  "language_info": {
   "codemirror_mode": {
    "name": "ipython",
    "version": 2
   },
   "file_extension": ".py",
   "mimetype": "text/x-python",
   "name": "python",
   "nbconvert_exporter": "python",
   "pygments_lexer": "ipython2",
   "version": "2.7.17"
  }
 },
 "nbformat": 4,
 "nbformat_minor": 2
}
